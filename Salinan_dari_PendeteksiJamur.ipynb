{
  "cells": [
    {
      "cell_type": "markdown",
      "metadata": {
        "id": "view-in-github",
        "colab_type": "text"
      },
      "source": [
        "<a href=\"https://colab.research.google.com/github/Reyhan-Code/skripsi/blob/Machine-Learning/Salinan_dari_PendeteksiJamur.ipynb\" target=\"_parent\"><img src=\"https://colab.research.google.com/assets/colab-badge.svg\" alt=\"Open In Colab\"/></a>"
      ]
    },
    {
      "cell_type": "code",
      "execution_count": 1,
      "metadata": {
        "id": "-v0NVEZQ1nqp"
      },
      "outputs": [],
      "source": [
        "import os\n",
        "import pandas as pd\n",
        "import zipfile\n",
        "import gdown\n",
        "import numpy as np\n",
        "import tensorflow as tf\n",
        "from tensorflow.keras.applications import MobileNetV2\n",
        "from tensorflow.keras import layers, models\n",
        "from tensorflow.keras.optimizers import Adam\n",
        "from sklearn.preprocessing import LabelBinarizer\n",
        "from tensorflow.keras.utils import to_categorical\n",
        "from keras.preprocessing import image\n",
        "import matplotlib.pyplot as plt\n",
        "from sklearn.metrics import classification_report, confusion_matrix, accuracy_score\n",
        "import seaborn as sns\n",
        "# from google.colab import drive\n",
        "from PIL import Image"
      ]
    },
    {
      "cell_type": "code",
      "source": [
        "# Ganti dengan ID file Anda\n",
        "file_id = '1612QhGakZUQjDPMz-HnGXTVmPr7Klu_d'\n",
        "url = f'https://drive.google.com/uc?id={file_id}'\n",
        "\n",
        "# Lokasi tempat menyimpan file zip yang diunduh\n",
        "zip_path = '/content/dataset_jamur2.zip'\n",
        "\n",
        "# Mengunduh file\n",
        "gdown.download(url, zip_path, quiet=False)\n",
        "\n",
        "# Ekstrak file\n",
        "with zipfile.ZipFile(zip_path, 'r') as zip_ref:\n",
        "    zip_ref.extractall('/content/my_folder')"
      ],
      "metadata": {
        "colab": {
          "base_uri": "https://localhost:8080/"
        },
        "id": "M0CnyItiB2NM",
        "outputId": "cf118b48-4f2c-45c0-e36a-6018cbb80ba1"
      },
      "execution_count": 2,
      "outputs": [
        {
          "output_type": "stream",
          "name": "stderr",
          "text": [
            "Downloading...\n",
            "From (original): https://drive.google.com/uc?id=1612QhGakZUQjDPMz-HnGXTVmPr7Klu_d\n",
            "From (redirected): https://drive.google.com/uc?id=1612QhGakZUQjDPMz-HnGXTVmPr7Klu_d&confirm=t&uuid=c8ce53d9-b105-4c03-b560-eb733363f144\n",
            "To: /content/dataset_jamur2.zip\n",
            "100%|██████████| 290M/290M [00:05<00:00, 54.1MB/s]\n"
          ]
        }
      ]
    },
    {
      "cell_type": "code",
      "execution_count": 6,
      "metadata": {
        "id": "4s9KN-sY1ste"
      },
      "outputs": [],
      "source": [
        "# Update base_dir\n",
        "base_dir = '/content/my_folder/jamur_dataset2/jamur_dataset' # Adjust to the new extraction path\n",
        "train_dir = os.path.join(base_dir, 'train')\n",
        "validation_dir = os.path.join(base_dir, 'validation')"
      ]
    },
    {
      "cell_type": "code",
      "execution_count": 7,
      "metadata": {
        "id": "-Oxnl66l1w7D"
      },
      "outputs": [],
      "source": [
        "def load_images_from_directory(directory, width, height):\n",
        "    image_data = []\n",
        "    image_target = []\n",
        "    classes = os.listdir(directory)\n",
        "    for title in classes:\n",
        "        class_dir = os.path.join(directory, title)\n",
        "        if os.path.isdir(class_dir):\n",
        "            for img_name in os.listdir(class_dir):\n",
        "                img_path = os.path.join(class_dir, img_name)\n",
        "                try:\n",
        "                    with Image.open(img_path) as img:\n",
        "                        img = img.convert(\"RGB\")\n",
        "                        img = img.resize((width, height))\n",
        "                        img_array = np.array(img)\n",
        "                        image_data.append(img_array)\n",
        "                        image_target.append(title)\n",
        "                except Exception as e:\n",
        "                    print(f\"Error loading image {img_path}: {e}\")\n",
        "    return np.array(image_data), np.array(image_target)"
      ]
    },
    {
      "cell_type": "code",
      "execution_count": 8,
      "metadata": {
        "id": "QOOt8pqE1zhG",
        "colab": {
          "base_uri": "https://localhost:8080/"
        },
        "outputId": "24215445-c3dc-44a6-edb5-380733240e17"
      },
      "outputs": [
        {
          "output_type": "stream",
          "name": "stderr",
          "text": [
            "/usr/local/lib/python3.10/dist-packages/PIL/Image.py:1054: UserWarning: Palette images with Transparency expressed in bytes should be converted to RGBA images\n",
            "  warnings.warn(\n"
          ]
        }
      ],
      "source": [
        "train_images, train_labels = load_images_from_directory(train_dir, 224, 224)\n",
        "validation_images, validation_labels = load_images_from_directory(validation_dir, 224, 224)\n",
        "\n",
        "train_images = train_images.astype('float32') / 255.0\n",
        "validation_images = validation_images.astype('float32') / 255.0\n",
        "\n",
        "lb = LabelBinarizer()\n",
        "train_labels = lb.fit_transform(train_labels)\n",
        "validation_labels = lb.transform(validation_labels)"
      ]
    },
    {
      "cell_type": "code",
      "execution_count": 9,
      "metadata": {
        "id": "8SPWzF2tKP2C",
        "colab": {
          "base_uri": "https://localhost:8080/"
        },
        "outputId": "92aa0b64-c66c-4a8e-a2ba-d9f7da906de0"
      },
      "outputs": [
        {
          "output_type": "stream",
          "name": "stdout",
          "text": [
            "Downloading data from https://storage.googleapis.com/tensorflow/keras-applications/mobilenet_v2/mobilenet_v2_weights_tf_dim_ordering_tf_kernels_1.0_224_no_top.h5\n",
            "\u001b[1m9406464/9406464\u001b[0m \u001b[32m━━━━━━━━━━━━━━━━━━━━\u001b[0m\u001b[37m\u001b[0m \u001b[1m0s\u001b[0m 0us/step\n"
          ]
        }
      ],
      "source": [
        "base_model = MobileNetV2(weights='imagenet', include_top=False, input_shape=(224, 224, 3))\n",
        "\n",
        "model = models.Sequential()\n",
        "model.add(base_model)\n",
        "model.add(layers.GlobalAveragePooling2D())\n",
        "model.add(layers.BatchNormalization())\n",
        "model.add(layers.Dense(128, activation='relu'))\n",
        "model.add(layers.Dropout(0.5))\n",
        "model.add(layers.BatchNormalization())\n",
        "model.add(layers.Dense(len(lb.classes_), activation='softmax'))\n",
        "\n",
        "for layer in base_model.layers:\n",
        "    layer.trainable = False"
      ]
    },
    {
      "cell_type": "code",
      "execution_count": 10,
      "metadata": {
        "colab": {
          "base_uri": "https://localhost:8080/"
        },
        "id": "8XPvGhTAKjwl",
        "outputId": "e35e47b1-8fb5-444f-fdc4-430fcd253267"
      },
      "outputs": [
        {
          "output_type": "stream",
          "name": "stdout",
          "text": [
            "Epoch 1/50\n",
            "\u001b[1m50/50\u001b[0m \u001b[32m━━━━━━━━━━━━━━━━━━━━\u001b[0m\u001b[37m\u001b[0m \u001b[1m102s\u001b[0m 2s/step - accuracy: 0.1433 - loss: 2.7872 - val_accuracy: 0.3975 - val_loss: 1.8353\n",
            "Epoch 2/50\n",
            "\u001b[1m50/50\u001b[0m \u001b[32m━━━━━━━━━━━━━━━━━━━━\u001b[0m\u001b[37m\u001b[0m \u001b[1m137s\u001b[0m 2s/step - accuracy: 0.3250 - loss: 2.0341 - val_accuracy: 0.6200 - val_loss: 1.4225\n",
            "Epoch 3/50\n",
            "\u001b[1m50/50\u001b[0m \u001b[32m━━━━━━━━━━━━━━━━━━━━\u001b[0m\u001b[37m\u001b[0m \u001b[1m142s\u001b[0m 2s/step - accuracy: 0.5031 - loss: 1.5214 - val_accuracy: 0.6875 - val_loss: 1.1867\n",
            "Epoch 4/50\n",
            "\u001b[1m50/50\u001b[0m \u001b[32m━━━━━━━━━━━━━━━━━━━━\u001b[0m\u001b[37m\u001b[0m \u001b[1m142s\u001b[0m 2s/step - accuracy: 0.5896 - loss: 1.3178 - val_accuracy: 0.7200 - val_loss: 1.0381\n",
            "Epoch 5/50\n",
            "\u001b[1m50/50\u001b[0m \u001b[32m━━━━━━━━━━━━━━━━━━━━\u001b[0m\u001b[37m\u001b[0m \u001b[1m112s\u001b[0m 2s/step - accuracy: 0.6469 - loss: 1.0876 - val_accuracy: 0.7400 - val_loss: 0.9480\n",
            "Epoch 6/50\n",
            "\u001b[1m50/50\u001b[0m \u001b[32m━━━━━━━━━━━━━━━━━━━━\u001b[0m\u001b[37m\u001b[0m \u001b[1m123s\u001b[0m 2s/step - accuracy: 0.6834 - loss: 1.0055 - val_accuracy: 0.7575 - val_loss: 0.8891\n",
            "Epoch 7/50\n",
            "\u001b[1m50/50\u001b[0m \u001b[32m━━━━━━━━━━━━━━━━━━━━\u001b[0m\u001b[37m\u001b[0m \u001b[1m92s\u001b[0m 2s/step - accuracy: 0.7334 - loss: 0.8814 - val_accuracy: 0.7750 - val_loss: 0.8384\n",
            "Epoch 8/50\n",
            "\u001b[1m50/50\u001b[0m \u001b[32m━━━━━━━━━━━━━━━━━━━━\u001b[0m\u001b[37m\u001b[0m \u001b[1m141s\u001b[0m 2s/step - accuracy: 0.7564 - loss: 0.8370 - val_accuracy: 0.7825 - val_loss: 0.8003\n",
            "Epoch 9/50\n",
            "\u001b[1m50/50\u001b[0m \u001b[32m━━━━━━━━━━━━━━━━━━━━\u001b[0m\u001b[37m\u001b[0m \u001b[1m144s\u001b[0m 2s/step - accuracy: 0.7703 - loss: 0.7364 - val_accuracy: 0.7850 - val_loss: 0.7714\n",
            "Epoch 10/50\n",
            "\u001b[1m50/50\u001b[0m \u001b[32m━━━━━━━━━━━━━━━━━━━━\u001b[0m\u001b[37m\u001b[0m \u001b[1m144s\u001b[0m 2s/step - accuracy: 0.7834 - loss: 0.7140 - val_accuracy: 0.7925 - val_loss: 0.7526\n",
            "Epoch 11/50\n",
            "\u001b[1m50/50\u001b[0m \u001b[32m━━━━━━━━━━━━━━━━━━━━\u001b[0m\u001b[37m\u001b[0m \u001b[1m93s\u001b[0m 2s/step - accuracy: 0.8007 - loss: 0.6662 - val_accuracy: 0.8000 - val_loss: 0.7299\n",
            "Epoch 12/50\n",
            "\u001b[1m50/50\u001b[0m \u001b[32m━━━━━━━━━━━━━━━━━━━━\u001b[0m\u001b[37m\u001b[0m \u001b[1m139s\u001b[0m 2s/step - accuracy: 0.8048 - loss: 0.6508 - val_accuracy: 0.8025 - val_loss: 0.7057\n",
            "Epoch 13/50\n",
            "\u001b[1m50/50\u001b[0m \u001b[32m━━━━━━━━━━━━━━━━━━━━\u001b[0m\u001b[37m\u001b[0m \u001b[1m91s\u001b[0m 2s/step - accuracy: 0.8193 - loss: 0.5814 - val_accuracy: 0.8050 - val_loss: 0.6900\n",
            "Epoch 14/50\n",
            "\u001b[1m50/50\u001b[0m \u001b[32m━━━━━━━━━━━━━━━━━━━━\u001b[0m\u001b[37m\u001b[0m \u001b[1m86s\u001b[0m 2s/step - accuracy: 0.8436 - loss: 0.5793 - val_accuracy: 0.8100 - val_loss: 0.6716\n",
            "Epoch 15/50\n",
            "\u001b[1m50/50\u001b[0m \u001b[32m━━━━━━━━━━━━━━━━━━━━\u001b[0m\u001b[37m\u001b[0m \u001b[1m150s\u001b[0m 2s/step - accuracy: 0.8332 - loss: 0.5525 - val_accuracy: 0.8200 - val_loss: 0.6602\n",
            "Epoch 16/50\n",
            "\u001b[1m50/50\u001b[0m \u001b[32m━━━━━━━━━━━━━━━━━━━━\u001b[0m\u001b[37m\u001b[0m \u001b[1m87s\u001b[0m 2s/step - accuracy: 0.8664 - loss: 0.4874 - val_accuracy: 0.8225 - val_loss: 0.6455\n",
            "Epoch 17/50\n",
            "\u001b[1m50/50\u001b[0m \u001b[32m━━━━━━━━━━━━━━━━━━━━\u001b[0m\u001b[37m\u001b[0m \u001b[1m145s\u001b[0m 2s/step - accuracy: 0.8655 - loss: 0.4691 - val_accuracy: 0.8225 - val_loss: 0.6331\n",
            "Epoch 18/50\n",
            "\u001b[1m50/50\u001b[0m \u001b[32m━━━━━━━━━━━━━━━━━━━━\u001b[0m\u001b[37m\u001b[0m \u001b[1m136s\u001b[0m 2s/step - accuracy: 0.8809 - loss: 0.4502 - val_accuracy: 0.8225 - val_loss: 0.6245\n",
            "Epoch 19/50\n",
            "\u001b[1m50/50\u001b[0m \u001b[32m━━━━━━━━━━━━━━━━━━━━\u001b[0m\u001b[37m\u001b[0m \u001b[1m146s\u001b[0m 2s/step - accuracy: 0.8806 - loss: 0.4166 - val_accuracy: 0.8200 - val_loss: 0.6180\n",
            "Epoch 20/50\n",
            "\u001b[1m50/50\u001b[0m \u001b[32m━━━━━━━━━━━━━━━━━━━━\u001b[0m\u001b[37m\u001b[0m \u001b[1m153s\u001b[0m 2s/step - accuracy: 0.8778 - loss: 0.4443 - val_accuracy: 0.8275 - val_loss: 0.6002\n",
            "Epoch 21/50\n",
            "\u001b[1m50/50\u001b[0m \u001b[32m━━━━━━━━━━━━━━━━━━━━\u001b[0m\u001b[37m\u001b[0m \u001b[1m92s\u001b[0m 2s/step - accuracy: 0.9064 - loss: 0.3911 - val_accuracy: 0.8275 - val_loss: 0.5915\n",
            "Epoch 22/50\n",
            "\u001b[1m50/50\u001b[0m \u001b[32m━━━━━━━━━━━━━━━━━━━━\u001b[0m\u001b[37m\u001b[0m \u001b[1m93s\u001b[0m 2s/step - accuracy: 0.9047 - loss: 0.3811 - val_accuracy: 0.8300 - val_loss: 0.5815\n",
            "Epoch 23/50\n",
            "\u001b[1m50/50\u001b[0m \u001b[32m━━━━━━━━━━━━━━━━━━━━\u001b[0m\u001b[37m\u001b[0m \u001b[1m90s\u001b[0m 2s/step - accuracy: 0.8973 - loss: 0.3999 - val_accuracy: 0.8325 - val_loss: 0.5717\n",
            "Epoch 24/50\n",
            "\u001b[1m50/50\u001b[0m \u001b[32m━━━━━━━━━━━━━━━━━━━━\u001b[0m\u001b[37m\u001b[0m \u001b[1m141s\u001b[0m 2s/step - accuracy: 0.9139 - loss: 0.3440 - val_accuracy: 0.8325 - val_loss: 0.5724\n",
            "Epoch 25/50\n",
            "\u001b[1m50/50\u001b[0m \u001b[32m━━━━━━━━━━━━━━━━━━━━\u001b[0m\u001b[37m\u001b[0m \u001b[1m149s\u001b[0m 2s/step - accuracy: 0.9175 - loss: 0.3271 - val_accuracy: 0.8450 - val_loss: 0.5649\n",
            "Epoch 26/50\n",
            "\u001b[1m50/50\u001b[0m \u001b[32m━━━━━━━━━━━━━━━━━━━━\u001b[0m\u001b[37m\u001b[0m \u001b[1m135s\u001b[0m 2s/step - accuracy: 0.9097 - loss: 0.3560 - val_accuracy: 0.8450 - val_loss: 0.5562\n",
            "Epoch 27/50\n",
            "\u001b[1m50/50\u001b[0m \u001b[32m━━━━━━━━━━━━━━━━━━━━\u001b[0m\u001b[37m\u001b[0m \u001b[1m90s\u001b[0m 2s/step - accuracy: 0.9169 - loss: 0.3154 - val_accuracy: 0.8425 - val_loss: 0.5475\n",
            "Epoch 28/50\n",
            "\u001b[1m50/50\u001b[0m \u001b[32m━━━━━━━━━━━━━━━━━━━━\u001b[0m\u001b[37m\u001b[0m \u001b[1m143s\u001b[0m 2s/step - accuracy: 0.9215 - loss: 0.3118 - val_accuracy: 0.8425 - val_loss: 0.5452\n",
            "Epoch 29/50\n",
            "\u001b[1m50/50\u001b[0m \u001b[32m━━━━━━━━━━━━━━━━━━━━\u001b[0m\u001b[37m\u001b[0m \u001b[1m89s\u001b[0m 2s/step - accuracy: 0.9253 - loss: 0.2865 - val_accuracy: 0.8425 - val_loss: 0.5413\n",
            "Epoch 30/50\n",
            "\u001b[1m50/50\u001b[0m \u001b[32m━━━━━━━━━━━━━━━━━━━━\u001b[0m\u001b[37m\u001b[0m \u001b[1m141s\u001b[0m 2s/step - accuracy: 0.9306 - loss: 0.2773 - val_accuracy: 0.8425 - val_loss: 0.5312\n",
            "Epoch 31/50\n",
            "\u001b[1m50/50\u001b[0m \u001b[32m━━━━━━━━━━━━━━━━━━━━\u001b[0m\u001b[37m\u001b[0m \u001b[1m141s\u001b[0m 2s/step - accuracy: 0.9221 - loss: 0.2974 - val_accuracy: 0.8450 - val_loss: 0.5334\n",
            "Epoch 32/50\n",
            "\u001b[1m50/50\u001b[0m \u001b[32m━━━━━━━━━━━━━━━━━━━━\u001b[0m\u001b[37m\u001b[0m \u001b[1m146s\u001b[0m 2s/step - accuracy: 0.9356 - loss: 0.2700 - val_accuracy: 0.8425 - val_loss: 0.5258\n",
            "Epoch 33/50\n",
            "\u001b[1m50/50\u001b[0m \u001b[32m━━━━━━━━━━━━━━━━━━━━\u001b[0m\u001b[37m\u001b[0m \u001b[1m88s\u001b[0m 2s/step - accuracy: 0.9399 - loss: 0.2593 - val_accuracy: 0.8500 - val_loss: 0.5194\n",
            "Epoch 34/50\n",
            "\u001b[1m50/50\u001b[0m \u001b[32m━━━━━━━━━━━━━━━━━━━━\u001b[0m\u001b[37m\u001b[0m \u001b[1m88s\u001b[0m 2s/step - accuracy: 0.9353 - loss: 0.2889 - val_accuracy: 0.8475 - val_loss: 0.5125\n",
            "Epoch 35/50\n",
            "\u001b[1m50/50\u001b[0m \u001b[32m━━━━━━━━━━━━━━━━━━━━\u001b[0m\u001b[37m\u001b[0m \u001b[1m141s\u001b[0m 2s/step - accuracy: 0.9498 - loss: 0.2243 - val_accuracy: 0.8450 - val_loss: 0.5147\n",
            "Epoch 36/50\n",
            "\u001b[1m50/50\u001b[0m \u001b[32m━━━━━━━━━━━━━━━━━━━━\u001b[0m\u001b[37m\u001b[0m \u001b[1m88s\u001b[0m 2s/step - accuracy: 0.9519 - loss: 0.2282 - val_accuracy: 0.8500 - val_loss: 0.5131\n",
            "Epoch 37/50\n",
            "\u001b[1m50/50\u001b[0m \u001b[32m━━━━━━━━━━━━━━━━━━━━\u001b[0m\u001b[37m\u001b[0m \u001b[1m143s\u001b[0m 2s/step - accuracy: 0.9502 - loss: 0.2230 - val_accuracy: 0.8475 - val_loss: 0.5109\n",
            "Epoch 38/50\n",
            "\u001b[1m50/50\u001b[0m \u001b[32m━━━━━━━━━━━━━━━━━━━━\u001b[0m\u001b[37m\u001b[0m \u001b[1m146s\u001b[0m 2s/step - accuracy: 0.9499 - loss: 0.2006 - val_accuracy: 0.8525 - val_loss: 0.5037\n",
            "Epoch 39/50\n",
            "\u001b[1m50/50\u001b[0m \u001b[32m━━━━━━━━━━━━━━━━━━━━\u001b[0m\u001b[37m\u001b[0m \u001b[1m136s\u001b[0m 2s/step - accuracy: 0.9610 - loss: 0.1968 - val_accuracy: 0.8500 - val_loss: 0.4967\n",
            "Epoch 40/50\n",
            "\u001b[1m50/50\u001b[0m \u001b[32m━━━━━━━━━━━━━━━━━━━━\u001b[0m\u001b[37m\u001b[0m \u001b[1m146s\u001b[0m 2s/step - accuracy: 0.9720 - loss: 0.1774 - val_accuracy: 0.8525 - val_loss: 0.4993\n",
            "Epoch 41/50\n",
            "\u001b[1m50/50\u001b[0m \u001b[32m━━━━━━━━━━━━━━━━━━━━\u001b[0m\u001b[37m\u001b[0m \u001b[1m141s\u001b[0m 2s/step - accuracy: 0.9653 - loss: 0.1898 - val_accuracy: 0.8550 - val_loss: 0.4995\n",
            "Epoch 42/50\n",
            "\u001b[1m50/50\u001b[0m \u001b[32m━━━━━━━━━━━━━━━━━━━━\u001b[0m\u001b[37m\u001b[0m \u001b[1m93s\u001b[0m 2s/step - accuracy: 0.9714 - loss: 0.1716 - val_accuracy: 0.8525 - val_loss: 0.4977\n",
            "Epoch 43/50\n",
            "\u001b[1m50/50\u001b[0m \u001b[32m━━━━━━━━━━━━━━━━━━━━\u001b[0m\u001b[37m\u001b[0m \u001b[1m135s\u001b[0m 2s/step - accuracy: 0.9548 - loss: 0.1983 - val_accuracy: 0.8525 - val_loss: 0.4941\n",
            "Epoch 44/50\n",
            "\u001b[1m50/50\u001b[0m \u001b[32m━━━━━━━━━━━━━━━━━━━━\u001b[0m\u001b[37m\u001b[0m \u001b[1m148s\u001b[0m 2s/step - accuracy: 0.9735 - loss: 0.1696 - val_accuracy: 0.8525 - val_loss: 0.4896\n",
            "Epoch 45/50\n",
            "\u001b[1m50/50\u001b[0m \u001b[32m━━━━━━━━━━━━━━━━━━━━\u001b[0m\u001b[37m\u001b[0m \u001b[1m90s\u001b[0m 2s/step - accuracy: 0.9632 - loss: 0.1865 - val_accuracy: 0.8525 - val_loss: 0.4872\n",
            "Epoch 46/50\n",
            "\u001b[1m50/50\u001b[0m \u001b[32m━━━━━━━━━━━━━━━━━━━━\u001b[0m\u001b[37m\u001b[0m \u001b[1m145s\u001b[0m 2s/step - accuracy: 0.9730 - loss: 0.1757 - val_accuracy: 0.8600 - val_loss: 0.4836\n",
            "Epoch 47/50\n",
            "\u001b[1m50/50\u001b[0m \u001b[32m━━━━━━━━━━━━━━━━━━━━\u001b[0m\u001b[37m\u001b[0m \u001b[1m139s\u001b[0m 2s/step - accuracy: 0.9699 - loss: 0.1635 - val_accuracy: 0.8625 - val_loss: 0.4864\n",
            "Epoch 48/50\n",
            "\u001b[1m50/50\u001b[0m \u001b[32m━━━━━━━━━━━━━━━━━━━━\u001b[0m\u001b[37m\u001b[0m \u001b[1m145s\u001b[0m 2s/step - accuracy: 0.9668 - loss: 0.1742 - val_accuracy: 0.8600 - val_loss: 0.4822\n",
            "Epoch 49/50\n",
            "\u001b[1m50/50\u001b[0m \u001b[32m━━━━━━━━━━━━━━━━━━━━\u001b[0m\u001b[37m\u001b[0m \u001b[1m93s\u001b[0m 2s/step - accuracy: 0.9791 - loss: 0.1477 - val_accuracy: 0.8550 - val_loss: 0.4800\n",
            "Epoch 50/50\n",
            "\u001b[1m50/50\u001b[0m \u001b[32m━━━━━━━━━━━━━━━━━━━━\u001b[0m\u001b[37m\u001b[0m \u001b[1m139s\u001b[0m 2s/step - accuracy: 0.9720 - loss: 0.1615 - val_accuracy: 0.8550 - val_loss: 0.4854\n"
          ]
        }
      ],
      "source": [
        "# model.compile(optimizer=Adam(learning_rate=1e-4), loss='categorical_crossentropy', metrics=['accuracy'])\n",
        "\n",
        "model.compile(optimizer=Adam(learning_rate=0.0001), loss='categorical_crossentropy', metrics=['accuracy'])\n",
        "\n",
        "history = model.fit(\n",
        "    train_images, train_labels,\n",
        "    epochs=50,\n",
        "    batch_size=32,\n",
        "    validation_data=(validation_images, validation_labels)\n",
        ")"
      ]
    },
    {
      "cell_type": "code",
      "execution_count": 11,
      "metadata": {
        "colab": {
          "base_uri": "https://localhost:8080/",
          "height": 887
        },
        "id": "Aguez4MRKosh",
        "outputId": "f196058a-e75b-497a-c102-659d49397db5"
      },
      "outputs": [
        {
          "output_type": "display_data",
          "data": {
            "text/plain": [
              "<Figure size 640x480 with 1 Axes>"
            ],
            "image/png": "[encoded data removed]"
          },
          "metadata": {}
        },
        {
          "output_type": "display_data",
          "data": {
            "text/plain": [
              "<Figure size 640x480 with 1 Axes>"
            ],
            "image/png": "[encoded data removed]"
          },
          "metadata": {}
        }
      ],
      "source": [
        "import matplotlib.pyplot as plt\n",
        "\n",
        "plt.plot(history.history['accuracy'], label='accuracy')\n",
        "plt.plot(history.history['val_accuracy'], label = 'val_accuracy')\n",
        "plt.xlabel('Epoch')\n",
        "plt.ylabel('Accuracy')\n",
        "plt.ylim([0, 1])\n",
        "plt.legend(loc='lower right')\n",
        "plt.show()\n",
        "\n",
        "plt.plot(history.history['loss'], label='loss')\n",
        "plt.plot(history.history['val_loss'], label='val_loss')\n",
        "plt.xlabel('Epoch')\n",
        "plt.ylabel('Loss')\n",
        "plt.legend(loc='upper right')\n",
        "plt.show()"
      ]
    },
    {
      "cell_type": "code",
      "execution_count": 12,
      "metadata": {
        "colab": {
          "base_uri": "https://localhost:8080/"
        },
        "id": "nxmt5jl9KrFv",
        "outputId": "d70493fe-c3cf-4648-89a5-2e78265a65db"
      },
      "outputs": [
        {
          "output_type": "stream",
          "name": "stdout",
          "text": [
            "['Chlorophyllum molybdites', 'Mycena leaiana', 'jamur Lentinus Squarrosulus', 'Jamur Tiram', 'Amanita phalloides', 'Jamur Merang', 'Leucoagaricus leucothites', 'Coprinopsis lagopus', 'jamur kuping', 'Jamur Barat']\n",
            "['Chlorophyllum molybdites', 'Mycena leaiana', 'jamur Lentinus Squarrosulus', 'Jamur Tiram', 'Amanita phalloides', 'Jamur Merang', 'Leucoagaricus leucothites', 'Coprinopsis lagopus', 'jamur kuping', 'Jamur Barat']\n"
          ]
        }
      ],
      "source": [
        "print(os.listdir(train_dir))\n",
        "print(os.listdir(validation_dir))"
      ]
    },
    {
      "cell_type": "code",
      "execution_count": 13,
      "metadata": {
        "id": "jRDvCN8gBd3i",
        "outputId": "1950e844-8b63-4c22-f1ee-8263af8f678e",
        "colab": {
          "base_uri": "https://localhost:8080/"
        }
      },
      "outputs": [
        {
          "output_type": "stream",
          "name": "stdout",
          "text": [
            "\u001b[1m13/13\u001b[0m \u001b[32m━━━━━━━━━━━━━━━━━━━━\u001b[0m\u001b[37m\u001b[0m \u001b[1m17s\u001b[0m 1s/step - accuracy: 0.8854 - loss: 0.3926\n",
            "Loss: 0.4854\n",
            "Accuracy: 85.50%\n",
            "\u001b[1m13/13\u001b[0m \u001b[32m━━━━━━━━━━━━━━━━━━━━\u001b[0m\u001b[37m\u001b[0m \u001b[1m21s\u001b[0m 1s/step\n",
            "Validation Accuracy: 85.50%\n",
            "Confusion Matrix:\n",
            "[[34  1  0  1  0  0  4  0  0  0]\n",
            " [ 1 37  0  0  0  0  1  0  1  0]\n",
            " [ 0  2 37  0  0  0  0  0  0  1]\n",
            " [ 3  0  5 30  2  0  0  0  0  0]\n",
            " [ 5  0  5  0 18  2  1  0  5  4]\n",
            " [ 0  0  0  1  2 35  0  0  2  0]\n",
            " [ 0  1  0  0  1  1 37  0  0  0]\n",
            " [ 0  0  0  0  0  0  0 39  1  0]\n",
            " [ 0  0  2  0  0  2  0  0 36  0]\n",
            " [ 0  0  0  0  0  0  0  1  0 39]]\n",
            "Classification Report:\n",
            "              precision    recall  f1-score   support\n",
            "\n",
            "           0       0.79      0.85      0.82        40\n",
            "           1       0.90      0.93      0.91        40\n",
            "           2       0.76      0.93      0.83        40\n",
            "           3       0.94      0.75      0.83        40\n",
            "           4       0.78      0.45      0.57        40\n",
            "           5       0.88      0.88      0.88        40\n",
            "           6       0.86      0.93      0.89        40\n",
            "           7       0.97      0.97      0.97        40\n",
            "           8       0.80      0.90      0.85        40\n",
            "           9       0.89      0.97      0.93        40\n",
            "\n",
            "    accuracy                           0.85       400\n",
            "   macro avg       0.86      0.86      0.85       400\n",
            "weighted avg       0.86      0.85      0.85       400\n",
            "\n"
          ]
        }
      ],
      "source": [
        "# Evaluate the model\n",
        "loss, accuracy = model.evaluate(validation_images, validation_labels)\n",
        "print(f'Loss: {loss:.4f}')\n",
        "print(f'Accuracy: {accuracy * 100:.2f}%')\n",
        "\n",
        "# Predict classes\n",
        "y_pred = np.argmax(model.predict(validation_images), axis=1)\n",
        "y_true = np.argmax(validation_labels, axis=1)\n",
        "\n",
        "# Calculate validation accuracy\n",
        "val_accuracy = accuracy_score(y_true, y_pred)\n",
        "print(f'Validation Accuracy: {val_accuracy * 100:.2f}%')\n",
        "\n",
        "# Print confusion matrix and classification report\n",
        "print('Confusion Matrix:')\n",
        "print(confusion_matrix(y_true, y_pred))\n",
        "print('Classification Report:')\n",
        "print(classification_report(y_true, y_pred))"
      ]
    },
    {
      "cell_type": "code",
      "execution_count": 14,
      "metadata": {
        "id": "Oz9FDG0nBd3j",
        "colab": {
          "base_uri": "https://localhost:8080/"
        },
        "outputId": "5f5277c1-efbe-4589-ce61-ef1731b1ef86"
      },
      "outputs": [
        {
          "output_type": "stream",
          "name": "stderr",
          "text": [
            "WARNING:absl:You are saving your model as an HDF5 file via `model.save()` or `keras.saving.save_model(model)`. This file format is considered legacy. We recommend using instead the native Keras format, e.g. `model.save('my_model.keras')` or `keras.saving.save_model(model, 'my_model.keras')`. \n"
          ]
        }
      ],
      "source": [
        "model.save('model.h5')"
      ]
    },
    {
      "cell_type": "code",
      "execution_count": 16,
      "metadata": {
        "id": "G0mediIZBd3j",
        "outputId": "07edfdde-c2dc-4720-e84c-21c556ecdfd8",
        "colab": {
          "base_uri": "https://localhost:8080/"
        }
      },
      "outputs": [
        {
          "output_type": "stream",
          "name": "stdout",
          "text": [
            "Saved artifact at '/tmp/tmpifljauyl'. The following endpoints are available:\n",
            "\n",
            "* Endpoint 'serve'\n",
            "  args_0 (POSITIONAL_ONLY): TensorSpec(shape=(None, 224, 224, 3), dtype=tf.float32, name='keras_tensor_154')\n",
            "Output Type:\n",
            "  TensorSpec(shape=(None, 10), dtype=tf.float32, name=None)\n",
            "Captures:\n",
            "  133795804107120: TensorSpec(shape=(), dtype=tf.resource, name=None)\n",
            "  133795804362032: TensorSpec(shape=(), dtype=tf.resource, name=None)\n",
            "  133795803724464: TensorSpec(shape=(), dtype=tf.resource, name=None)\n",
            "  133795803724112: TensorSpec(shape=(), dtype=tf.resource, name=None)\n",
            "  133795803723232: TensorSpec(shape=(), dtype=tf.resource, name=None)\n",
            "  133795803725520: TensorSpec(shape=(), dtype=tf.resource, name=None)\n",
            "  133795802324080: TensorSpec(shape=(), dtype=tf.resource, name=None)\n",
            "  133795802325136: TensorSpec(shape=(), dtype=tf.resource, name=None)\n",
            "  133795802321264: TensorSpec(shape=(), dtype=tf.resource, name=None)\n",
            "  133795802323904: TensorSpec(shape=(), dtype=tf.resource, name=None)\n",
            "  133795817515920: TensorSpec(shape=(), dtype=tf.resource, name=None)\n",
            "  133795802330240: TensorSpec(shape=(), dtype=tf.resource, name=None)\n",
            "  133795802332704: TensorSpec(shape=(), dtype=tf.resource, name=None)\n",
            "  133795802328832: TensorSpec(shape=(), dtype=tf.resource, name=None)\n",
            "  133795802331472: TensorSpec(shape=(), dtype=tf.resource, name=None)\n",
            "  133795802319504: TensorSpec(shape=(), dtype=tf.resource, name=None)\n",
            "  133795802731216: TensorSpec(shape=(), dtype=tf.resource, name=None)\n",
            "  133795802732272: TensorSpec(shape=(), dtype=tf.resource, name=None)\n",
            "  133795802728400: TensorSpec(shape=(), dtype=tf.resource, name=None)\n",
            "  133795802731040: TensorSpec(shape=(), dtype=tf.resource, name=None)\n",
            "  133795802739488: TensorSpec(shape=(), dtype=tf.resource, name=None)\n",
            "  133795802738432: TensorSpec(shape=(), dtype=tf.resource, name=None)\n",
            "  133795802741072: TensorSpec(shape=(), dtype=tf.resource, name=None)\n",
            "  133795802728752: TensorSpec(shape=(), dtype=tf.resource, name=None)\n",
            "  133795802738960: TensorSpec(shape=(), dtype=tf.resource, name=None)\n",
            "  133795802735088: TensorSpec(shape=(), dtype=tf.resource, name=None)\n",
            "  133795802796928: TensorSpec(shape=(), dtype=tf.resource, name=None)\n",
            "  133795802797984: TensorSpec(shape=(), dtype=tf.resource, name=None)\n",
            "  133795802794112: TensorSpec(shape=(), dtype=tf.resource, name=None)\n",
            "  133795802796752: TensorSpec(shape=(), dtype=tf.resource, name=None)\n",
            "  133795803718480: TensorSpec(shape=(), dtype=tf.resource, name=None)\n",
            "  133795802801680: TensorSpec(shape=(), dtype=tf.resource, name=None)\n",
            "  133795802804144: TensorSpec(shape=(), dtype=tf.resource, name=None)\n",
            "  133795802800272: TensorSpec(shape=(), dtype=tf.resource, name=None)\n",
            "  133795802802912: TensorSpec(shape=(), dtype=tf.resource, name=None)\n",
            "  133795802806960: TensorSpec(shape=(), dtype=tf.resource, name=None)\n",
            "  133795802874624: TensorSpec(shape=(), dtype=tf.resource, name=None)\n",
            "  133795802874272: TensorSpec(shape=(), dtype=tf.resource, name=None)\n",
            "  133795802806080: TensorSpec(shape=(), dtype=tf.resource, name=None)\n",
            "  133795802876384: TensorSpec(shape=(), dtype=tf.resource, name=None)\n",
            "  133795802805728: TensorSpec(shape=(), dtype=tf.resource, name=None)\n",
            "  133795802882544: TensorSpec(shape=(), dtype=tf.resource, name=None)\n",
            "  133795802885008: TensorSpec(shape=(), dtype=tf.resource, name=None)\n",
            "  133795802881136: TensorSpec(shape=(), dtype=tf.resource, name=None)\n",
            "  133795802883776: TensorSpec(shape=(), dtype=tf.resource, name=None)\n",
            "  133795802876736: TensorSpec(shape=(), dtype=tf.resource, name=None)\n",
            "  133795802940688: TensorSpec(shape=(), dtype=tf.resource, name=None)\n",
            "  133795802941040: TensorSpec(shape=(), dtype=tf.resource, name=None)\n",
            "  133795802888880: TensorSpec(shape=(), dtype=tf.resource, name=None)\n",
            "  133795802939456: TensorSpec(shape=(), dtype=tf.resource, name=None)\n",
            "  133795802886944: TensorSpec(shape=(), dtype=tf.resource, name=None)\n",
            "  133795802948080: TensorSpec(shape=(), dtype=tf.resource, name=None)\n",
            "  133795802950720: TensorSpec(shape=(), dtype=tf.resource, name=None)\n",
            "  133795802946672: TensorSpec(shape=(), dtype=tf.resource, name=None)\n",
            "  133795802948608: TensorSpec(shape=(), dtype=tf.resource, name=None)\n",
            "  133795802953712: TensorSpec(shape=(), dtype=tf.resource, name=None)\n",
            "  133795803022960: TensorSpec(shape=(), dtype=tf.resource, name=None)\n",
            "  133795803021552: TensorSpec(shape=(), dtype=tf.resource, name=None)\n",
            "  133795802954768: TensorSpec(shape=(), dtype=tf.resource, name=None)\n",
            "  133795803023136: TensorSpec(shape=(), dtype=tf.resource, name=None)\n",
            "  133795802805904: TensorSpec(shape=(), dtype=tf.resource, name=None)\n",
            "  133795803027712: TensorSpec(shape=(), dtype=tf.resource, name=None)\n",
            "  133795803030176: TensorSpec(shape=(), dtype=tf.resource, name=None)\n",
            "  133795803026304: TensorSpec(shape=(), dtype=tf.resource, name=None)\n",
            "  133795803028944: TensorSpec(shape=(), dtype=tf.resource, name=None)\n",
            "  133795803036160: TensorSpec(shape=(), dtype=tf.resource, name=None)\n",
            "  133795803035104: TensorSpec(shape=(), dtype=tf.resource, name=None)\n",
            "  133795803032288: TensorSpec(shape=(), dtype=tf.resource, name=None)\n",
            "  133795803026656: TensorSpec(shape=(), dtype=tf.resource, name=None)\n",
            "  133795803035632: TensorSpec(shape=(), dtype=tf.resource, name=None)\n",
            "  133795803031760: TensorSpec(shape=(), dtype=tf.resource, name=None)\n",
            "  133795803109984: TensorSpec(shape=(), dtype=tf.resource, name=None)\n",
            "  133795803111040: TensorSpec(shape=(), dtype=tf.resource, name=None)\n",
            "  133795803107168: TensorSpec(shape=(), dtype=tf.resource, name=None)\n",
            "  133795803109808: TensorSpec(shape=(), dtype=tf.resource, name=None)\n",
            "  133795802944912: TensorSpec(shape=(), dtype=tf.resource, name=None)\n",
            "  133795803116144: TensorSpec(shape=(), dtype=tf.resource, name=None)\n",
            "  133795803118608: TensorSpec(shape=(), dtype=tf.resource, name=None)\n",
            "  133795803114736: TensorSpec(shape=(), dtype=tf.resource, name=None)\n",
            "  133795803117376: TensorSpec(shape=(), dtype=tf.resource, name=None)\n",
            "  133795803115088: TensorSpec(shape=(), dtype=tf.resource, name=None)\n",
            "  133795803189264: TensorSpec(shape=(), dtype=tf.resource, name=None)\n",
            "  133795803191904: TensorSpec(shape=(), dtype=tf.resource, name=None)\n",
            "  133795803187856: TensorSpec(shape=(), dtype=tf.resource, name=None)\n",
            "  133795803189792: TensorSpec(shape=(), dtype=tf.resource, name=None)\n",
            "  133795803198064: TensorSpec(shape=(), dtype=tf.resource, name=None)\n",
            "  133795803197008: TensorSpec(shape=(), dtype=tf.resource, name=None)\n",
            "  133795803199472: TensorSpec(shape=(), dtype=tf.resource, name=None)\n",
            "  133795803185920: TensorSpec(shape=(), dtype=tf.resource, name=None)\n",
            "  133795803198240: TensorSpec(shape=(), dtype=tf.resource, name=None)\n",
            "  133795803031936: TensorSpec(shape=(), dtype=tf.resource, name=None)\n",
            "  133795803255328: TensorSpec(shape=(), dtype=tf.resource, name=None)\n",
            "  133795803254976: TensorSpec(shape=(), dtype=tf.resource, name=None)\n",
            "  133795803252512: TensorSpec(shape=(), dtype=tf.resource, name=None)\n",
            "  133795803255152: TensorSpec(shape=(), dtype=tf.resource, name=None)\n",
            "  133795803263776: TensorSpec(shape=(), dtype=tf.resource, name=None)\n",
            "  133795803262720: TensorSpec(shape=(), dtype=tf.resource, name=None)\n",
            "  133795803265360: TensorSpec(shape=(), dtype=tf.resource, name=None)\n",
            "  133795803252864: TensorSpec(shape=(), dtype=tf.resource, name=None)\n",
            "  133795803263248: TensorSpec(shape=(), dtype=tf.resource, name=None)\n",
            "  133795803259376: TensorSpec(shape=(), dtype=tf.resource, name=None)\n",
            "  133795758330752: TensorSpec(shape=(), dtype=tf.resource, name=None)\n",
            "  133795758331808: TensorSpec(shape=(), dtype=tf.resource, name=None)\n",
            "  133795758327936: TensorSpec(shape=(), dtype=tf.resource, name=None)\n",
            "  133795758330576: TensorSpec(shape=(), dtype=tf.resource, name=None)\n",
            "  133795803186096: TensorSpec(shape=(), dtype=tf.resource, name=None)\n",
            "  133795758335504: TensorSpec(shape=(), dtype=tf.resource, name=None)\n",
            "  133795758337968: TensorSpec(shape=(), dtype=tf.resource, name=None)\n",
            "  133795758334096: TensorSpec(shape=(), dtype=tf.resource, name=None)\n",
            "  133795758336736: TensorSpec(shape=(), dtype=tf.resource, name=None)\n",
            "  133795758340784: TensorSpec(shape=(), dtype=tf.resource, name=None)\n",
            "  133795758408448: TensorSpec(shape=(), dtype=tf.resource, name=None)\n",
            "  133795758408096: TensorSpec(shape=(), dtype=tf.resource, name=None)\n",
            "  133795758339904: TensorSpec(shape=(), dtype=tf.resource, name=None)\n",
            "  133795758410208: TensorSpec(shape=(), dtype=tf.resource, name=None)\n",
            "  133795758339552: TensorSpec(shape=(), dtype=tf.resource, name=None)\n",
            "  133795758416368: TensorSpec(shape=(), dtype=tf.resource, name=None)\n",
            "  133795758418832: TensorSpec(shape=(), dtype=tf.resource, name=None)\n",
            "  133795758414960: TensorSpec(shape=(), dtype=tf.resource, name=None)\n",
            "  133795758417600: TensorSpec(shape=(), dtype=tf.resource, name=None)\n",
            "  133795758410560: TensorSpec(shape=(), dtype=tf.resource, name=None)\n",
            "  133795758491072: TensorSpec(shape=(), dtype=tf.resource, name=None)\n",
            "  133795758489840: TensorSpec(shape=(), dtype=tf.resource, name=None)\n",
            "  133795758422880: TensorSpec(shape=(), dtype=tf.resource, name=None)\n",
            "  133795758489664: TensorSpec(shape=(), dtype=tf.resource, name=None)\n",
            "  133795758423760: TensorSpec(shape=(), dtype=tf.resource, name=None)\n",
            "  133795758497056: TensorSpec(shape=(), dtype=tf.resource, name=None)\n",
            "  133795758499696: TensorSpec(shape=(), dtype=tf.resource, name=None)\n",
            "  133795758495648: TensorSpec(shape=(), dtype=tf.resource, name=None)\n",
            "  133795758497584: TensorSpec(shape=(), dtype=tf.resource, name=None)\n",
            "  133795758505328: TensorSpec(shape=(), dtype=tf.resource, name=None)\n",
            "  133795758496000: TensorSpec(shape=(), dtype=tf.resource, name=None)\n",
            "  133795758501280: TensorSpec(shape=(), dtype=tf.resource, name=None)\n",
            "  133795758503040: TensorSpec(shape=(), dtype=tf.resource, name=None)\n",
            "  133795758555904: TensorSpec(shape=(), dtype=tf.resource, name=None)\n",
            "  133795758339728: TensorSpec(shape=(), dtype=tf.resource, name=None)\n",
            "  133795758563120: TensorSpec(shape=(), dtype=tf.resource, name=None)\n",
            "  133795758564176: TensorSpec(shape=(), dtype=tf.resource, name=None)\n",
            "  133795758560304: TensorSpec(shape=(), dtype=tf.resource, name=None)\n",
            "  133795758562944: TensorSpec(shape=(), dtype=tf.resource, name=None)\n",
            "  133795758570160: TensorSpec(shape=(), dtype=tf.resource, name=None)\n",
            "  133795758569104: TensorSpec(shape=(), dtype=tf.resource, name=None)\n",
            "  133795758566288: TensorSpec(shape=(), dtype=tf.resource, name=None)\n",
            "  133795758560656: TensorSpec(shape=(), dtype=tf.resource, name=None)\n",
            "  133795758569632: TensorSpec(shape=(), dtype=tf.resource, name=None)\n",
            "  133795758565760: TensorSpec(shape=(), dtype=tf.resource, name=None)\n",
            "  133795758643984: TensorSpec(shape=(), dtype=tf.resource, name=None)\n",
            "  133795758645040: TensorSpec(shape=(), dtype=tf.resource, name=None)\n",
            "  133795758641168: TensorSpec(shape=(), dtype=tf.resource, name=None)\n",
            "  133795758643808: TensorSpec(shape=(), dtype=tf.resource, name=None)\n",
            "  133795758493888: TensorSpec(shape=(), dtype=tf.resource, name=None)\n",
            "  133795758650144: TensorSpec(shape=(), dtype=tf.resource, name=None)\n",
            "  133795758652608: TensorSpec(shape=(), dtype=tf.resource, name=None)\n",
            "  133795758648736: TensorSpec(shape=(), dtype=tf.resource, name=None)\n",
            "  133795758651376: TensorSpec(shape=(), dtype=tf.resource, name=None)\n",
            "  133795758649088: TensorSpec(shape=(), dtype=tf.resource, name=None)\n",
            "  133795758756032: TensorSpec(shape=(), dtype=tf.resource, name=None)\n",
            "  133795758758672: TensorSpec(shape=(), dtype=tf.resource, name=None)\n",
            "  133795758754624: TensorSpec(shape=(), dtype=tf.resource, name=None)\n",
            "  133795758756560: TensorSpec(shape=(), dtype=tf.resource, name=None)\n",
            "  133795758764832: TensorSpec(shape=(), dtype=tf.resource, name=None)\n",
            "  133795758763776: TensorSpec(shape=(), dtype=tf.resource, name=None)\n",
            "  133795758766240: TensorSpec(shape=(), dtype=tf.resource, name=None)\n",
            "  133795758752688: TensorSpec(shape=(), dtype=tf.resource, name=None)\n",
            "  133795758765008: TensorSpec(shape=(), dtype=tf.resource, name=None)\n",
            "  133795758754272: TensorSpec(shape=(), dtype=tf.resource, name=None)\n",
            "  133795758820688: TensorSpec(shape=(), dtype=tf.resource, name=None)\n",
            "  133795758818224: TensorSpec(shape=(), dtype=tf.resource, name=None)\n",
            "  133795758817344: TensorSpec(shape=(), dtype=tf.resource, name=None)\n",
            "  133795758820864: TensorSpec(shape=(), dtype=tf.resource, name=None)\n",
            "  133795758827728: TensorSpec(shape=(), dtype=tf.resource, name=None)\n",
            "  133795758826672: TensorSpec(shape=(), dtype=tf.resource, name=None)\n",
            "  133795758829312: TensorSpec(shape=(), dtype=tf.resource, name=None)\n",
            "  133795758817520: TensorSpec(shape=(), dtype=tf.resource, name=None)\n",
            "  133795758827200: TensorSpec(shape=(), dtype=tf.resource, name=None)\n",
            "  133795758832304: TensorSpec(shape=(), dtype=tf.resource, name=None)\n",
            "  133795758868784: TensorSpec(shape=(), dtype=tf.resource, name=None)\n",
            "  133795758866848: TensorSpec(shape=(), dtype=tf.resource, name=None)\n",
            "  133795758831424: TensorSpec(shape=(), dtype=tf.resource, name=None)\n",
            "  133795758868960: TensorSpec(shape=(), dtype=tf.resource, name=None)\n",
            "  133795758752864: TensorSpec(shape=(), dtype=tf.resource, name=None)\n",
            "  133795758874944: TensorSpec(shape=(), dtype=tf.resource, name=None)\n",
            "  133795758877408: TensorSpec(shape=(), dtype=tf.resource, name=None)\n",
            "  133795758873536: TensorSpec(shape=(), dtype=tf.resource, name=None)\n",
            "  133795758876176: TensorSpec(shape=(), dtype=tf.resource, name=None)\n",
            "  133795758880224: TensorSpec(shape=(), dtype=tf.resource, name=None)\n",
            "  133795758948944: TensorSpec(shape=(), dtype=tf.resource, name=None)\n",
            "  133795758880048: TensorSpec(shape=(), dtype=tf.resource, name=None)\n",
            "  133795758881280: TensorSpec(shape=(), dtype=tf.resource, name=None)\n",
            "  133795758948416: TensorSpec(shape=(), dtype=tf.resource, name=None)\n",
            "  133795758878992: TensorSpec(shape=(), dtype=tf.resource, name=None)\n",
            "  133795758957216: TensorSpec(shape=(), dtype=tf.resource, name=None)\n",
            "  133795758958272: TensorSpec(shape=(), dtype=tf.resource, name=None)\n",
            "  133795758954400: TensorSpec(shape=(), dtype=tf.resource, name=None)\n",
            "  133795758957040: TensorSpec(shape=(), dtype=tf.resource, name=None)\n",
            "  133795758823504: TensorSpec(shape=(), dtype=tf.resource, name=None)\n",
            "  133795758954752: TensorSpec(shape=(), dtype=tf.resource, name=None)\n",
            "  133795758959856: TensorSpec(shape=(), dtype=tf.resource, name=None)\n",
            "  133795758961616: TensorSpec(shape=(), dtype=tf.resource, name=None)\n",
            "  133795759046720: TensorSpec(shape=(), dtype=tf.resource, name=None)\n",
            "  133795758963552: TensorSpec(shape=(), dtype=tf.resource, name=None)\n",
            "  133795759054288: TensorSpec(shape=(), dtype=tf.resource, name=None)\n",
            "  133795759056928: TensorSpec(shape=(), dtype=tf.resource, name=None)\n",
            "  133795759052880: TensorSpec(shape=(), dtype=tf.resource, name=None)\n",
            "  133795759054816: TensorSpec(shape=(), dtype=tf.resource, name=None)\n",
            "  133795759059920: TensorSpec(shape=(), dtype=tf.resource, name=None)\n",
            "  133795759053232: TensorSpec(shape=(), dtype=tf.resource, name=None)\n",
            "  133795759058688: TensorSpec(shape=(), dtype=tf.resource, name=None)\n",
            "  133795759060976: TensorSpec(shape=(), dtype=tf.resource, name=None)\n",
            "  133795759113312: TensorSpec(shape=(), dtype=tf.resource, name=None)\n",
            "  133795758879168: TensorSpec(shape=(), dtype=tf.resource, name=None)\n",
            "  133795759118944: TensorSpec(shape=(), dtype=tf.resource, name=None)\n",
            "  133795759120000: TensorSpec(shape=(), dtype=tf.resource, name=None)\n",
            "  133795759116128: TensorSpec(shape=(), dtype=tf.resource, name=None)\n",
            "  133795759118768: TensorSpec(shape=(), dtype=tf.resource, name=None)\n",
            "  133795759125984: TensorSpec(shape=(), dtype=tf.resource, name=None)\n",
            "  133795759124928: TensorSpec(shape=(), dtype=tf.resource, name=None)\n",
            "  133795759127568: TensorSpec(shape=(), dtype=tf.resource, name=None)\n",
            "  133795759116480: TensorSpec(shape=(), dtype=tf.resource, name=None)\n",
            "  133795759125456: TensorSpec(shape=(), dtype=tf.resource, name=None)\n",
            "  133795759197344: TensorSpec(shape=(), dtype=tf.resource, name=None)\n",
            "  133795759293184: TensorSpec(shape=(), dtype=tf.resource, name=None)\n",
            "  133795759208608: TensorSpec(shape=(), dtype=tf.resource, name=None)\n",
            "  133795759206848: TensorSpec(shape=(), dtype=tf.resource, name=None)\n",
            "  133795759209136: TensorSpec(shape=(), dtype=tf.resource, name=None)\n",
            "  133795804290688: TensorSpec(shape=(), dtype=tf.resource, name=None)\n",
            "  133795759300400: TensorSpec(shape=(), dtype=tf.resource, name=None)\n",
            "  133795759301456: TensorSpec(shape=(), dtype=tf.resource, name=None)\n",
            "  133795759297584: TensorSpec(shape=(), dtype=tf.resource, name=None)\n",
            "  133795759300224: TensorSpec(shape=(), dtype=tf.resource, name=None)\n",
            "  133795759307440: TensorSpec(shape=(), dtype=tf.resource, name=None)\n",
            "  133795759306384: TensorSpec(shape=(), dtype=tf.resource, name=None)\n",
            "  133795759303568: TensorSpec(shape=(), dtype=tf.resource, name=None)\n",
            "  133795759297936: TensorSpec(shape=(), dtype=tf.resource, name=None)\n",
            "  133795759306912: TensorSpec(shape=(), dtype=tf.resource, name=None)\n",
            "  133795759303040: TensorSpec(shape=(), dtype=tf.resource, name=None)\n",
            "  133795803985200: TensorSpec(shape=(), dtype=tf.resource, name=None)\n",
            "  133795759202800: TensorSpec(shape=(), dtype=tf.resource, name=None)\n",
            "  133795804290160: TensorSpec(shape=(), dtype=tf.resource, name=None)\n",
            "  133795803972000: TensorSpec(shape=(), dtype=tf.resource, name=None)\n",
            "  133795759202272: TensorSpec(shape=(), dtype=tf.resource, name=None)\n",
            "  133795757299440: TensorSpec(shape=(), dtype=tf.resource, name=None)\n",
            "  133795757294160: TensorSpec(shape=(), dtype=tf.resource, name=None)\n",
            "  133795757296800: TensorSpec(shape=(), dtype=tf.resource, name=None)\n",
            "  133795757299264: TensorSpec(shape=(), dtype=tf.resource, name=None)\n",
            "  133795757306480: TensorSpec(shape=(), dtype=tf.resource, name=None)\n",
            "  133795757305424: TensorSpec(shape=(), dtype=tf.resource, name=None)\n",
            "  133795757308064: TensorSpec(shape=(), dtype=tf.resource, name=None)\n",
            "  133795757295744: TensorSpec(shape=(), dtype=tf.resource, name=None)\n",
            "  133795757305952: TensorSpec(shape=(), dtype=tf.resource, name=None)\n",
            "  133795757302080: TensorSpec(shape=(), dtype=tf.resource, name=None)\n",
            "  133795757413072: TensorSpec(shape=(), dtype=tf.resource, name=None)\n",
            "  133795757414128: TensorSpec(shape=(), dtype=tf.resource, name=None)\n",
            "  133795757410256: TensorSpec(shape=(), dtype=tf.resource, name=None)\n",
            "  133795757412896: TensorSpec(shape=(), dtype=tf.resource, name=None)\n",
            "  133795759303216: TensorSpec(shape=(), dtype=tf.resource, name=None)\n",
            "  133795757418000: TensorSpec(shape=(), dtype=tf.resource, name=None)\n",
            "  133795757420464: TensorSpec(shape=(), dtype=tf.resource, name=None)\n",
            "  133795757416592: TensorSpec(shape=(), dtype=tf.resource, name=None)\n",
            "  133795757419232: TensorSpec(shape=(), dtype=tf.resource, name=None)\n",
            "  133795757726656: TensorSpec(shape=(), dtype=tf.resource, name=None)\n",
            "  133795757728416: TensorSpec(shape=(), dtype=tf.resource, name=None)\n",
            "  133795757725952: TensorSpec(shape=(), dtype=tf.resource, name=None)\n",
            "  133795757727184: TensorSpec(shape=(), dtype=tf.resource, name=None)\n",
            "  133795757735632: TensorSpec(shape=(), dtype=tf.resource, name=None)\n",
            "  133795757733344: TensorSpec(shape=(), dtype=tf.resource, name=None)\n",
            "  133795757873760: TensorSpec(shape=(), dtype=tf.resource, name=None)\n",
            "  133795757875520: TensorSpec(shape=(), dtype=tf.resource, name=None)\n",
            "  133795757873056: TensorSpec(shape=(), dtype=tf.resource, name=None)\n",
            "  133795757874288: TensorSpec(shape=(), dtype=tf.resource, name=None)\n",
            "  133795757879216: TensorSpec(shape=(), dtype=tf.resource, name=None)\n",
            "  133795757880272: TensorSpec(shape=(), dtype=tf.resource, name=None)\n",
            "Model has been converted to TFLite and saved as 'model.tflite'\n"
          ]
        }
      ],
      "source": [
        "converter = tf.lite.TFLiteConverter.from_keras_model(model)\n",
        "tflite_model = converter.convert()\n",
        "\n",
        "with open('modelJamurBaru.tflite', 'wb') as f:\n",
        "    f.write(tflite_model)\n",
        "\n",
        "print(\"Model has been converted to TFLite and saved as 'model.tflite'\")"
      ]
    },
    {
      "cell_type": "code",
      "execution_count": 18,
      "metadata": {
        "colab": {
          "base_uri": "https://localhost:8080/"
        },
        "id": "bzv_nTekKs_S",
        "outputId": "afe44561-9fbd-4a7d-b74a-cb68d86eb629"
      },
      "outputs": [
        {
          "output_type": "stream",
          "name": "stdout",
          "text": [
            "\u001b[1m1/1\u001b[0m \u001b[32m━━━━━━━━━━━━━━━━━━━━\u001b[0m\u001b[37m\u001b[0m \u001b[1m0s\u001b[0m 103ms/step\n"
          ]
        },
        {
          "output_type": "stream",
          "name": "stderr",
          "text": [
            "WARNING:absl:You are saving your model as an HDF5 file via `model.save()` or `keras.saving.save_model(model)`. This file format is considered legacy. We recommend using instead the native Keras format, e.g. `model.save('my_model.keras')` or `keras.saving.save_model(model, 'my_model.keras')`. \n"
          ]
        },
        {
          "output_type": "stream",
          "name": "stdout",
          "text": [
            "Predicted Class: Amanita phalloides\n",
            "Prediction Accuracy: 76.44%\n"
          ]
        }
      ],
      "source": [
        "img_path = '/content/463549072_968475678646479_2051839524113474531_n.jpg'\n",
        "img = image.load_img(img_path, target_size=(224, 224))\n",
        "img_array = image.img_to_array(img)\n",
        "img_array = np.expand_dims(img_array, axis=0)\n",
        "img_array /= 255.0\n",
        "\n",
        "# Define class labels\n",
        "labels = [\n",
        "    'Amanita phalloides',\n",
        "    'Chlorophyllum molybdites',\n",
        "    'Coprinopsis lagopus',\n",
        "    'Jamur Barat',\n",
        "    'Jamur Merang',\n",
        "    'Jamur Tiram',\n",
        "    'Leucoagaricus leucothites',\n",
        "    'Mycena leaiana',\n",
        "    'jamur Lentinus Squarrosulus',\n",
        "    'jamur kuping'\n",
        "]\n",
        "\n",
        "# Make a prediction\n",
        "prediction = model.predict(img_array)\n",
        "index = np.argmax(prediction)\n",
        "class_names = labels[index]\n",
        "\n",
        "# Print prediction results\n",
        "accuracy = np.max(prediction) * 100\n",
        "predicted_class = class_names\n",
        "print(f\"Predicted Class: {predicted_class}\")\n",
        "print(f\"Prediction Accuracy: {accuracy:.2f}%\")\n",
        "\n",
        "# Save the model\n",
        "model.save(\"model.h5\")\n",
        "\n",
        "# # Evaluate the model on the validation set\n",
        "# val_predictions = model.predict(validation_images)\n",
        "# val_predictions_classes = np.argmax(val_predictions, axis=1)\n",
        "# val_true_classes = np.argmax(validation_labels, axis=1)\n",
        "\n",
        "# # Print evaluation metrics\n",
        "# print(\"Accuracy: \", accuracy_score(val_true_classes, val_predictions_classes))\n",
        "# print(\"Classification Report:\\n\", classification_report(val_true_classes, val_predictions_classes, target_names=labels))\n",
        "# print(\"Confusion Matrix:\\n\", confusion_matrix(val_true_classes, val_predictions_classes))\n",
        "\n",
        "# # Visualize the confusion matrix\n",
        "# conf_matrix = confusion_matrix(val_true_classes, val_predictions_classes)\n",
        "# plt.figure(figsize=(10, 8))\n",
        "# sns.heatmap(conf_matrix, annot=True, fmt='d', cmap='Blues', xticklabels=labels, yticklabels=labels)\n",
        "# plt.xlabel('Predicted')\n",
        "# plt.ylabel('Actual')\n",
        "# plt.title('Confusion Matrix')\n",
        "# plt.show()"
      ]
    }
  ],
  "metadata": {
    "colab": {
      "provenance": [],
      "include_colab_link": true
    },
    "kernelspec": {
      "display_name": "Python 3",
      "name": "python3"
    },
    "language_info": {
      "codemirror_mode": {
        "name": "ipython",
        "version": 3
      },
      "file_extension": ".py",
      "mimetype": "text/x-python",
      "name": "python",
      "nbconvert_exporter": "python",
      "pygments_lexer": "ipython3",
      "version": "3.8.18"
    }
  },
  "nbformat": 4,
  "nbformat_minor": 0
}